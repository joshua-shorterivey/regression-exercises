{
 "cells": [
  {
   "cell_type": "markdown",
   "metadata": {},
   "source": [
    "# Imports "
   ]
  },
  {
   "cell_type": "code",
   "execution_count": 20,
   "metadata": {},
   "outputs": [],
   "source": [
    "#standard imports\n",
    "import pandas as pd\n",
    "import numpy as np\n",
    "import seaborn as sns\n",
    "import matplotlib.pyplot as plt\n",
    "\n",
    "\n",
    "from env import user, password, host\n",
    "from sklearn.model_selection import train_test_split\n",
    "from sklearn.impute import SimpleImputer\n",
    "\n",
    "import warnings\n",
    "warnings.filterwarnings(\"ignore\")\n"
   ]
  },
  {
   "cell_type": "markdown",
   "metadata": {},
   "source": [
    "# Exercise I\n",
    "* Create a new repository named regression-exercises in your GitHub; all of your Regression work will be housed here.\n",
    "* Clone this repository within your local codeup-data-science directory.\n",
    "* Create a .gitignore and make sure your list of 'files to ignore' includes your env.py file.\n",
    "* Ceate a README.md file that outlines the contents and purpose of your repository.\n",
    "* Add, commit, and push these two files.\n",
    "* Now you can add your env.py file to this repository to access the Codeup database server.\n",
    "* For these exercises, you will create wrangle.ipynb and wrangle.py files to hold necessary functions.\n",
    "* As always, add, commit, and push your work often.\n"
   ]
  },
  {
   "cell_type": "markdown",
   "metadata": {},
   "source": [
    "# Exercise II\n",
    " As a Codeup data science graduate, you want to show off your skills to the Zillow data science team in hopes of getting an interview for a position you saw pop up on LinkedIn. You thought it might look impressive to build an end-to-end project in which you use some of their Kaggle data to predict property values using some of their available features; who knows, you might even do some feature engineering to blow them away. Your goal is to predict the values of single unit properties using the obervations from 2017.\n",
    "\n",
    "In these exercises, you will complete the first step toward the above goal: acquire and prepare the necessary Zillow data from the zillow database in the Codeup database server."
   ]
  },
  {
   "cell_type": "markdown",
   "metadata": {},
   "source": [
    "## 1: Acquire specifed columns from the zillow database for all 'Single Family Residential' properties.\n",
    "* To acquire: `bedroomcnt`, `bathroomcnt`, `calculatedfinishedsquarefeet`, `taxvaluedollarcnt`, `yearbuilt`, `taxamount`, and `fips`\n"
   ]
  },
  {
   "cell_type": "markdown",
   "metadata": {},
   "source": [
    "### Prepare the URL and SQL that will acquire the data"
   ]
  },
  {
   "cell_type": "code",
   "execution_count": 2,
   "metadata": {},
   "outputs": [],
   "source": [
    "#create url to access DB\n",
    "url = f\"mysql+pymysql://{user}:{password}@{host}/zillow\"\n",
    "\n",
    "#write sql query for specified columns\n",
    "sql = \"\"\" \n",
    "SELECT bedroomcnt, bathroomcnt, calculatedfinishedsquarefeet, taxvaluedollarcnt, yearbuilt, taxamount, fips\n",
    "FROM properties_2017\n",
    "LEFT JOIN propertylandusetype USING (propertylandusetypeid)\n",
    "WHERE propertylandusedesc IN (\"Single Family Residential\", \"Inferred Single Family Residential\")\n",
    "\"\"\"\n"
   ]
  },
  {
   "cell_type": "markdown",
   "metadata": {},
   "source": [
    "### Place data in DFrame"
   ]
  },
  {
   "cell_type": "code",
   "execution_count": 3,
   "metadata": {},
   "outputs": [],
   "source": [
    "# read the data in a dataFrame\n",
    "# data = pd.read_sql(sql, url) # --> 3:57s process\n"
   ]
  },
  {
   "cell_type": "code",
   "execution_count": 4,
   "metadata": {},
   "outputs": [],
   "source": [
    "# copy data into dframe to avoid having to reacquire in future\n",
    "df = data.copy()"
   ]
  },
  {
   "cell_type": "code",
   "execution_count": 5,
   "metadata": {},
   "outputs": [
    {
     "data": {
      "text/html": [
       "<div>\n",
       "<style scoped>\n",
       "    .dataframe tbody tr th:only-of-type {\n",
       "        vertical-align: middle;\n",
       "    }\n",
       "\n",
       "    .dataframe tbody tr th {\n",
       "        vertical-align: top;\n",
       "    }\n",
       "\n",
       "    .dataframe thead th {\n",
       "        text-align: right;\n",
       "    }\n",
       "</style>\n",
       "<table border=\"1\" class=\"dataframe\">\n",
       "  <thead>\n",
       "    <tr style=\"text-align: right;\">\n",
       "      <th></th>\n",
       "      <th>bedroomcnt</th>\n",
       "      <th>bathroomcnt</th>\n",
       "      <th>calculatedfinishedsquarefeet</th>\n",
       "      <th>taxvaluedollarcnt</th>\n",
       "      <th>yearbuilt</th>\n",
       "      <th>taxamount</th>\n",
       "      <th>fips</th>\n",
       "    </tr>\n",
       "  </thead>\n",
       "  <tbody>\n",
       "    <tr>\n",
       "      <th>0</th>\n",
       "      <td>0.0</td>\n",
       "      <td>0.0</td>\n",
       "      <td>NaN</td>\n",
       "      <td>27516.0</td>\n",
       "      <td>NaN</td>\n",
       "      <td>NaN</td>\n",
       "      <td>6037.0</td>\n",
       "    </tr>\n",
       "    <tr>\n",
       "      <th>1</th>\n",
       "      <td>0.0</td>\n",
       "      <td>0.0</td>\n",
       "      <td>NaN</td>\n",
       "      <td>10.0</td>\n",
       "      <td>NaN</td>\n",
       "      <td>NaN</td>\n",
       "      <td>6037.0</td>\n",
       "    </tr>\n",
       "    <tr>\n",
       "      <th>2</th>\n",
       "      <td>0.0</td>\n",
       "      <td>0.0</td>\n",
       "      <td>NaN</td>\n",
       "      <td>10.0</td>\n",
       "      <td>NaN</td>\n",
       "      <td>NaN</td>\n",
       "      <td>6037.0</td>\n",
       "    </tr>\n",
       "    <tr>\n",
       "      <th>3</th>\n",
       "      <td>0.0</td>\n",
       "      <td>0.0</td>\n",
       "      <td>NaN</td>\n",
       "      <td>2108.0</td>\n",
       "      <td>NaN</td>\n",
       "      <td>174.21</td>\n",
       "      <td>6037.0</td>\n",
       "    </tr>\n",
       "    <tr>\n",
       "      <th>4</th>\n",
       "      <td>4.0</td>\n",
       "      <td>2.0</td>\n",
       "      <td>3633.0</td>\n",
       "      <td>296425.0</td>\n",
       "      <td>2005.0</td>\n",
       "      <td>6941.39</td>\n",
       "      <td>6037.0</td>\n",
       "    </tr>\n",
       "  </tbody>\n",
       "</table>\n",
       "</div>"
      ],
      "text/plain": [
       "   bedroomcnt  bathroomcnt  calculatedfinishedsquarefeet  taxvaluedollarcnt  \\\n",
       "0         0.0          0.0                           NaN            27516.0   \n",
       "1         0.0          0.0                           NaN               10.0   \n",
       "2         0.0          0.0                           NaN               10.0   \n",
       "3         0.0          0.0                           NaN             2108.0   \n",
       "4         4.0          2.0                        3633.0           296425.0   \n",
       "\n",
       "   yearbuilt  taxamount    fips  \n",
       "0        NaN        NaN  6037.0  \n",
       "1        NaN        NaN  6037.0  \n",
       "2        NaN        NaN  6037.0  \n",
       "3        NaN     174.21  6037.0  \n",
       "4     2005.0    6941.39  6037.0  "
      ]
     },
     "execution_count": 5,
     "metadata": {},
     "output_type": "execute_result"
    }
   ],
   "source": [
    "df.head()"
   ]
  },
  {
   "cell_type": "markdown",
   "metadata": {},
   "source": [
    "## 2: Using your acquired Zillow data, walk through the summarization and cleaning steps in your wrangle.ipynb file like we did above. \n",
    "* You may handle the missing values however you feel is appropriate and meaningful; \n",
    "* remember to document your process and decisions using markdown and code commenting where helpful.\n"
   ]
  },
  {
   "cell_type": "markdown",
   "metadata": {},
   "source": [
    "### Summarizations"
   ]
  },
  {
   "cell_type": "code",
   "execution_count": 6,
   "metadata": {},
   "outputs": [
    {
     "data": {
      "text/plain": [
       "(2152864, 7)"
      ]
     },
     "execution_count": 6,
     "metadata": {},
     "output_type": "execute_result"
    }
   ],
   "source": [
    "df.shape\n",
    "# 2152864 observations (rows) -- 7 columns (features)"
   ]
  },
  {
   "cell_type": "code",
   "execution_count": 7,
   "metadata": {},
   "outputs": [
    {
     "name": "stdout",
     "output_type": "stream",
     "text": [
      "<class 'pandas.core.frame.DataFrame'>\n",
      "RangeIndex: 2152864 entries, 0 to 2152863\n",
      "Data columns (total 7 columns):\n",
      " #   Column                        Non-Null Count    Dtype  \n",
      "---  ------                        --------------    -----  \n",
      " 0   bedroomcnt                    2152853 non-null  float64\n",
      " 1   bathroomcnt                   2152853 non-null  float64\n",
      " 2   calculatedfinishedsquarefeet  2144379 non-null  float64\n",
      " 3   taxvaluedollarcnt             2152371 non-null  float64\n",
      " 4   yearbuilt                     2143526 non-null  float64\n",
      " 5   taxamount                     2148422 non-null  float64\n",
      " 6   fips                          2152864 non-null  float64\n",
      "dtypes: float64(7)\n",
      "memory usage: 115.0 MB\n"
     ]
    }
   ],
   "source": [
    "# null_counts will normally NOT be displayed for very very large dFrames \n",
    "# alt method below\n",
    "df.info(null_counts=True)"
   ]
  },
  {
   "cell_type": "code",
   "execution_count": 8,
   "metadata": {},
   "outputs": [
    {
     "data": {
      "text/plain": [
       "bedroomcnt                        11\n",
       "bathroomcnt                       11\n",
       "calculatedfinishedsquarefeet    8485\n",
       "taxvaluedollarcnt                493\n",
       "yearbuilt                       9338\n",
       "taxamount                       4442\n",
       "fips                               0\n",
       "dtype: int64"
      ]
     },
     "execution_count": 8,
     "metadata": {},
     "output_type": "execute_result"
    }
   ],
   "source": [
    "# breaksdown nulls by column\n",
    "df.isnull().sum()"
   ]
  },
  {
   "cell_type": "code",
   "execution_count": 9,
   "metadata": {},
   "outputs": [
    {
     "data": {
      "text/html": [
       "<div>\n",
       "<style scoped>\n",
       "    .dataframe tbody tr th:only-of-type {\n",
       "        vertical-align: middle;\n",
       "    }\n",
       "\n",
       "    .dataframe tbody tr th {\n",
       "        vertical-align: top;\n",
       "    }\n",
       "\n",
       "    .dataframe thead th {\n",
       "        text-align: right;\n",
       "    }\n",
       "</style>\n",
       "<table border=\"1\" class=\"dataframe\">\n",
       "  <thead>\n",
       "    <tr style=\"text-align: right;\">\n",
       "      <th></th>\n",
       "      <th>count</th>\n",
       "      <th>mean</th>\n",
       "      <th>std</th>\n",
       "      <th>min</th>\n",
       "      <th>25%</th>\n",
       "      <th>50%</th>\n",
       "      <th>75%</th>\n",
       "      <th>max</th>\n",
       "    </tr>\n",
       "  </thead>\n",
       "  <tbody>\n",
       "    <tr>\n",
       "      <th>bedroomcnt</th>\n",
       "      <td>2152853.0</td>\n",
       "      <td>3.287195</td>\n",
       "      <td>0.954757</td>\n",
       "      <td>0.00</td>\n",
       "      <td>3.0000</td>\n",
       "      <td>3.000</td>\n",
       "      <td>4.0000</td>\n",
       "      <td>25.00</td>\n",
       "    </tr>\n",
       "    <tr>\n",
       "      <th>bathroomcnt</th>\n",
       "      <td>2152853.0</td>\n",
       "      <td>2.230687</td>\n",
       "      <td>0.999281</td>\n",
       "      <td>0.00</td>\n",
       "      <td>2.0000</td>\n",
       "      <td>2.000</td>\n",
       "      <td>3.0000</td>\n",
       "      <td>32.00</td>\n",
       "    </tr>\n",
       "    <tr>\n",
       "      <th>calculatedfinishedsquarefeet</th>\n",
       "      <td>2144379.0</td>\n",
       "      <td>1862.855178</td>\n",
       "      <td>1222.125124</td>\n",
       "      <td>1.00</td>\n",
       "      <td>1257.0000</td>\n",
       "      <td>1623.000</td>\n",
       "      <td>2208.0000</td>\n",
       "      <td>952576.00</td>\n",
       "    </tr>\n",
       "    <tr>\n",
       "      <th>taxvaluedollarcnt</th>\n",
       "      <td>2152371.0</td>\n",
       "      <td>461896.052361</td>\n",
       "      <td>699675.940049</td>\n",
       "      <td>1.00</td>\n",
       "      <td>188170.0000</td>\n",
       "      <td>327671.000</td>\n",
       "      <td>534527.0000</td>\n",
       "      <td>98428909.00</td>\n",
       "    </tr>\n",
       "    <tr>\n",
       "      <th>yearbuilt</th>\n",
       "      <td>2143526.0</td>\n",
       "      <td>1960.949681</td>\n",
       "      <td>22.162196</td>\n",
       "      <td>1801.00</td>\n",
       "      <td>1949.0000</td>\n",
       "      <td>1958.000</td>\n",
       "      <td>1976.0000</td>\n",
       "      <td>2016.00</td>\n",
       "    </tr>\n",
       "    <tr>\n",
       "      <th>taxamount</th>\n",
       "      <td>2148422.0</td>\n",
       "      <td>5634.863752</td>\n",
       "      <td>8178.908996</td>\n",
       "      <td>1.85</td>\n",
       "      <td>2534.9725</td>\n",
       "      <td>4108.945</td>\n",
       "      <td>6414.3175</td>\n",
       "      <td>1337755.86</td>\n",
       "    </tr>\n",
       "    <tr>\n",
       "      <th>fips</th>\n",
       "      <td>2152864.0</td>\n",
       "      <td>6048.377330</td>\n",
       "      <td>20.433289</td>\n",
       "      <td>6037.00</td>\n",
       "      <td>6037.0000</td>\n",
       "      <td>6037.000</td>\n",
       "      <td>6059.0000</td>\n",
       "      <td>6111.00</td>\n",
       "    </tr>\n",
       "  </tbody>\n",
       "</table>\n",
       "</div>"
      ],
      "text/plain": [
       "                                  count           mean            std  \\\n",
       "bedroomcnt                    2152853.0       3.287195       0.954757   \n",
       "bathroomcnt                   2152853.0       2.230687       0.999281   \n",
       "calculatedfinishedsquarefeet  2144379.0    1862.855178    1222.125124   \n",
       "taxvaluedollarcnt             2152371.0  461896.052361  699675.940049   \n",
       "yearbuilt                     2143526.0    1960.949681      22.162196   \n",
       "taxamount                     2148422.0    5634.863752    8178.908996   \n",
       "fips                          2152864.0    6048.377330      20.433289   \n",
       "\n",
       "                                  min          25%         50%          75%  \\\n",
       "bedroomcnt                       0.00       3.0000       3.000       4.0000   \n",
       "bathroomcnt                      0.00       2.0000       2.000       3.0000   \n",
       "calculatedfinishedsquarefeet     1.00    1257.0000    1623.000    2208.0000   \n",
       "taxvaluedollarcnt                1.00  188170.0000  327671.000  534527.0000   \n",
       "yearbuilt                     1801.00    1949.0000    1958.000    1976.0000   \n",
       "taxamount                        1.85    2534.9725    4108.945    6414.3175   \n",
       "fips                          6037.00    6037.0000    6037.000    6059.0000   \n",
       "\n",
       "                                      max  \n",
       "bedroomcnt                          25.00  \n",
       "bathroomcnt                         32.00  \n",
       "calculatedfinishedsquarefeet    952576.00  \n",
       "taxvaluedollarcnt             98428909.00  \n",
       "yearbuilt                         2016.00  \n",
       "taxamount                      1337755.86  \n",
       "fips                              6111.00  "
      ]
     },
     "execution_count": 9,
     "metadata": {},
     "output_type": "execute_result"
    }
   ],
   "source": [
    "#may want to run this AFTER taking care of nulls, and right before visualizations\n",
    "df.describe().T"
   ]
  },
  {
   "cell_type": "markdown",
   "metadata": {},
   "source": [
    "#### Takeaways - Summarization\n",
    "* calculate finished square feat, yaerbuilt, taxvaluedollarcnt, taxamount have large number of null values\n",
    "* bedroomcnt and bathroocnt have very small numbers of nulls\n",
    "* can think about renaming categories for legibility and to conform with convention"
   ]
  },
  {
   "cell_type": "markdown",
   "metadata": {},
   "source": [
    "### Cleaning - Fixing Column names"
   ]
  },
  {
   "cell_type": "code",
   "execution_count": 36,
   "metadata": {},
   "outputs": [],
   "source": [
    "# take care of column names --> no need for takeaways\n",
    "df = df.rename(columns = {'bedroomcnt':'bedrooms',\n",
    "                            'bathroomcnt': 'bathrooms',\n",
    "                            'calculatedfinishedsquarefeet': 'area',\n",
    "                            'taxvaluedollarcnt': 'tax_value',\n",
    "                            'taxamount': 'tax_amount',\n",
    "                            'yearbuilt': 'year_built'})"
   ]
  },
  {
   "cell_type": "markdown",
   "metadata": {},
   "source": [
    "### Visualize Data (Part 1)"
   ]
  },
  {
   "cell_type": "code",
   "execution_count": 53,
   "metadata": {},
   "outputs": [
    {
     "data": {
      "image/png": "[encoded data removed]",
      "text/plain": [
       "<Figure size 1440x360 with 7 Axes>"
      ]
     },
     "metadata": {
      "needs_background": "light"
     },
     "output_type": "display_data"
    }
   ],
   "source": [
    "# build out for loop to display quick visuals of each column\n",
    "plt.figure(figsize=(20,5))\n",
    "i=1\n",
    "for col in df.columns:\n",
    "   \n",
    "    plt.subplot(1, len(df.columns), i)\n",
    "    df[col].hist(bins=5)\n",
    "    plt.title(col)\n",
    "    i += 1\n",
    "\n",
    "plt.show()\n"
   ]
  },
  {
   "cell_type": "markdown",
   "metadata": {},
   "source": [
    "### Takeaways\n",
    "* Fips can be ignored for this visual\n",
    "* Others have outliers \n",
    "    * the range of the x-axis wouldn't not need to be what it is unless there are values out there\n",
    "    * can check out the plots of concern with a different type or different bin sizes"
   ]
  },
  {
   "cell_type": "code",
   "execution_count": 38,
   "metadata": {},
   "outputs": [
    {
     "data": {
      "text/plain": [
       "<AxesSubplot:>"
      ]
     },
     "execution_count": 38,
     "metadata": {},
     "output_type": "execute_result"
    },
    {
     "data": {
      "image/png": "[encoded data removed]",
      "text/plain": [
       "<Figure size 432x288 with 1 Axes>"
      ]
     },
     "metadata": {
      "needs_background": "light"
     },
     "output_type": "display_data"
    }
   ],
   "source": [
    "# tax value ---> more bins\n",
    "df.tax_value.hist(bins=100)"
   ]
  },
  {
   "cell_type": "code",
   "execution_count": 61,
   "metadata": {},
   "outputs": [
    {
     "data": {
      "image/png": "[encoded data removed]",
      "text/plain": [
       "<Figure size 1080x1800 with 5 Axes>"
      ]
     },
     "metadata": {
      "needs_background": "light"
     },
     "output_type": "display_data"
    }
   ],
   "source": [
    "# check out the outliers now --> widen out the figure --> make it taller --> take them off the same plot\n",
    "#plt.figure(figsize=(15,25))\n",
    "#sns.boxplot(data=df.drop(columns=['fips']))\n",
    "\n",
    "# use a loop now --> can not show fips or year built\n",
    "plt.figure(figsize=(15,25))\n",
    "i=1\n",
    "\n",
    "for col in df.drop(columns=['fips', 'year_built']).columns:\n",
    "   \n",
    "    plt.subplot(1, len(df.columns), i)\n",
    "    sns.boxplot(data=df[col])\n",
    "    plt.title(col)\n",
    "    i += 1\n",
    "\n",
    "plt.show()"
   ]
  },
  {
   "cell_type": "markdown",
   "metadata": {},
   "source": [
    "### Takeaways\n",
    "* Area --> few outliers\n",
    "* Bedrooms and Bathrooms --> comparitively few outliers and \n",
    "* tax_value and tax_amount --> extreme outliers, and in high numbers\n",
    "    * check these out with the describe again --> quartiles and such"
   ]
  },
  {
   "cell_type": "code",
   "execution_count": 59,
   "metadata": {},
   "outputs": [
    {
     "data": {
      "text/html": [
       "<div>\n",
       "<style scoped>\n",
       "    .dataframe tbody tr th:only-of-type {\n",
       "        vertical-align: middle;\n",
       "    }\n",
       "\n",
       "    .dataframe tbody tr th {\n",
       "        vertical-align: top;\n",
       "    }\n",
       "\n",
       "    .dataframe thead th {\n",
       "        text-align: right;\n",
       "    }\n",
       "</style>\n",
       "<table border=\"1\" class=\"dataframe\">\n",
       "  <thead>\n",
       "    <tr style=\"text-align: right;\">\n",
       "      <th></th>\n",
       "      <th>count</th>\n",
       "      <th>mean</th>\n",
       "      <th>std</th>\n",
       "      <th>min</th>\n",
       "      <th>25%</th>\n",
       "      <th>50%</th>\n",
       "      <th>75%</th>\n",
       "      <th>max</th>\n",
       "    </tr>\n",
       "  </thead>\n",
       "  <tbody>\n",
       "    <tr>\n",
       "      <th>bedrooms</th>\n",
       "      <td>2152853.0</td>\n",
       "      <td>3.287195</td>\n",
       "      <td>0.954757</td>\n",
       "      <td>0.00</td>\n",
       "      <td>3.0000</td>\n",
       "      <td>3.000</td>\n",
       "      <td>4.0000</td>\n",
       "      <td>25.00</td>\n",
       "    </tr>\n",
       "    <tr>\n",
       "      <th>bathrooms</th>\n",
       "      <td>2152853.0</td>\n",
       "      <td>2.230687</td>\n",
       "      <td>0.999281</td>\n",
       "      <td>0.00</td>\n",
       "      <td>2.0000</td>\n",
       "      <td>2.000</td>\n",
       "      <td>3.0000</td>\n",
       "      <td>32.00</td>\n",
       "    </tr>\n",
       "    <tr>\n",
       "      <th>area</th>\n",
       "      <td>2144379.0</td>\n",
       "      <td>1862.855178</td>\n",
       "      <td>1222.125124</td>\n",
       "      <td>1.00</td>\n",
       "      <td>1257.0000</td>\n",
       "      <td>1623.000</td>\n",
       "      <td>2208.0000</td>\n",
       "      <td>952576.00</td>\n",
       "    </tr>\n",
       "    <tr>\n",
       "      <th>tax_value</th>\n",
       "      <td>2152371.0</td>\n",
       "      <td>461896.052361</td>\n",
       "      <td>699675.940049</td>\n",
       "      <td>1.00</td>\n",
       "      <td>188170.0000</td>\n",
       "      <td>327671.000</td>\n",
       "      <td>534527.0000</td>\n",
       "      <td>98428909.00</td>\n",
       "    </tr>\n",
       "    <tr>\n",
       "      <th>year_built</th>\n",
       "      <td>2143526.0</td>\n",
       "      <td>1960.949681</td>\n",
       "      <td>22.162196</td>\n",
       "      <td>1801.00</td>\n",
       "      <td>1949.0000</td>\n",
       "      <td>1958.000</td>\n",
       "      <td>1976.0000</td>\n",
       "      <td>2016.00</td>\n",
       "    </tr>\n",
       "    <tr>\n",
       "      <th>taxamount</th>\n",
       "      <td>2148422.0</td>\n",
       "      <td>5634.863752</td>\n",
       "      <td>8178.908996</td>\n",
       "      <td>1.85</td>\n",
       "      <td>2534.9725</td>\n",
       "      <td>4108.945</td>\n",
       "      <td>6414.3175</td>\n",
       "      <td>1337755.86</td>\n",
       "    </tr>\n",
       "    <tr>\n",
       "      <th>fips</th>\n",
       "      <td>2152864.0</td>\n",
       "      <td>6048.377330</td>\n",
       "      <td>20.433289</td>\n",
       "      <td>6037.00</td>\n",
       "      <td>6037.0000</td>\n",
       "      <td>6037.000</td>\n",
       "      <td>6059.0000</td>\n",
       "      <td>6111.00</td>\n",
       "    </tr>\n",
       "  </tbody>\n",
       "</table>\n",
       "</div>"
      ],
      "text/plain": [
       "                count           mean            std      min          25%  \\\n",
       "bedrooms    2152853.0       3.287195       0.954757     0.00       3.0000   \n",
       "bathrooms   2152853.0       2.230687       0.999281     0.00       2.0000   \n",
       "area        2144379.0    1862.855178    1222.125124     1.00    1257.0000   \n",
       "tax_value   2152371.0  461896.052361  699675.940049     1.00  188170.0000   \n",
       "year_built  2143526.0    1960.949681      22.162196  1801.00    1949.0000   \n",
       "taxamount   2148422.0    5634.863752    8178.908996     1.85    2534.9725   \n",
       "fips        2152864.0    6048.377330      20.433289  6037.00    6037.0000   \n",
       "\n",
       "                   50%          75%          max  \n",
       "bedrooms         3.000       4.0000        25.00  \n",
       "bathrooms        2.000       3.0000        32.00  \n",
       "area          1623.000    2208.0000    952576.00  \n",
       "tax_value   327671.000  534527.0000  98428909.00  \n",
       "year_built    1958.000    1976.0000      2016.00  \n",
       "taxamount     4108.945    6414.3175   1337755.86  \n",
       "fips          6037.000    6059.0000      6111.00  "
      ]
     },
     "execution_count": 59,
     "metadata": {},
     "output_type": "execute_result"
    }
   ],
   "source": [
    "df.describe().T"
   ]
  },
  {
   "cell_type": "markdown",
   "metadata": {},
   "source": [
    "### Handle Outliers "
   ]
  },
  {
   "cell_type": "code",
   "execution_count": 63,
   "metadata": {},
   "outputs": [],
   "source": [
    "\n",
    "# function for removing outliers\n",
    "def remove_outliers(df, k, col_list):\n",
    "    \"\"\" \n",
    "    remove outliers from a list of columns in a dataframe and return that dataframe\n",
    "    \"\"\"\n",
    "\n",
    "    # total number of observations\n",
    "    num_obs = df.shape[0]\n",
    "        \n",
    "    # Create a column that will label our rows as containing an outlier. sets default value\n",
    "    df['outlier'] = False\n",
    "\n",
    "    # loop through the columns provided to find appropriate values and labels\n",
    "    for col in col_list:\n",
    "\n",
    "        # find quartiles\n",
    "        q1, q3 = df[col].quantile([.25, .75])  \n",
    "        \n",
    "       # get interquartile range\n",
    "        iqr = q3 - q1\n",
    "\n",
    "       # find upper/lower bounds \n",
    "        upper_bound = q3 + k * iqr   # get upper bound\n",
    "        lower_bound = q1 - k * iqr   # get lower bound\n",
    "\n",
    "        # update the outlier label as needed. \n",
    "        df['outlier'] = np.where(((df[col] < lower_bound) | (df[col] > upper_bound)) & (df.outlier == False), True, df.outlier)\n",
    "    \n",
    "    # set dataframe to dataframe w/o the outliers\n",
    "    df = df[df.outlier == False]\n",
    "\n",
    "    # drop the outlier column from the dataFrame. no longer needed\n",
    "    df.drop(columns=['outlier'], inplace=True)\n",
    "\n",
    "    # print out number of removed observations\n",
    "    print(f\"Number of observations removed: {num_obs - df.shape[0]}\")\n",
    "        \n",
    "    return df"
   ]
  },
  {
   "cell_type": "code",
   "execution_count": 64,
   "metadata": {},
   "outputs": [
    {
     "name": "stdout",
     "output_type": "stream",
     "text": [
      "Number of observations removed: 239823\n"
     ]
    },
    {
     "data": {
      "text/html": [
       "<div>\n",
       "<style scoped>\n",
       "    .dataframe tbody tr th:only-of-type {\n",
       "        vertical-align: middle;\n",
       "    }\n",
       "\n",
       "    .dataframe tbody tr th {\n",
       "        vertical-align: top;\n",
       "    }\n",
       "\n",
       "    .dataframe thead th {\n",
       "        text-align: right;\n",
       "    }\n",
       "</style>\n",
       "<table border=\"1\" class=\"dataframe\">\n",
       "  <thead>\n",
       "    <tr style=\"text-align: right;\">\n",
       "      <th></th>\n",
       "      <th>bedrooms</th>\n",
       "      <th>bathrooms</th>\n",
       "      <th>area</th>\n",
       "      <th>tax_value</th>\n",
       "      <th>year_built</th>\n",
       "      <th>tax_amount</th>\n",
       "      <th>fips</th>\n",
       "    </tr>\n",
       "  </thead>\n",
       "  <tbody>\n",
       "    <tr>\n",
       "      <th>4</th>\n",
       "      <td>4.0</td>\n",
       "      <td>2.0</td>\n",
       "      <td>3633.0</td>\n",
       "      <td>296425.0</td>\n",
       "      <td>2005.0</td>\n",
       "      <td>6941.39</td>\n",
       "      <td>6037.0</td>\n",
       "    </tr>\n",
       "    <tr>\n",
       "      <th>6</th>\n",
       "      <td>3.0</td>\n",
       "      <td>4.0</td>\n",
       "      <td>1620.0</td>\n",
       "      <td>847770.0</td>\n",
       "      <td>2011.0</td>\n",
       "      <td>10244.94</td>\n",
       "      <td>6037.0</td>\n",
       "    </tr>\n",
       "    <tr>\n",
       "      <th>7</th>\n",
       "      <td>3.0</td>\n",
       "      <td>2.0</td>\n",
       "      <td>2077.0</td>\n",
       "      <td>646760.0</td>\n",
       "      <td>1926.0</td>\n",
       "      <td>7924.68</td>\n",
       "      <td>6037.0</td>\n",
       "    </tr>\n",
       "    <tr>\n",
       "      <th>18</th>\n",
       "      <td>3.0</td>\n",
       "      <td>1.0</td>\n",
       "      <td>1244.0</td>\n",
       "      <td>169471.0</td>\n",
       "      <td>1950.0</td>\n",
       "      <td>2532.88</td>\n",
       "      <td>6037.0</td>\n",
       "    </tr>\n",
       "    <tr>\n",
       "      <th>19</th>\n",
       "      <td>3.0</td>\n",
       "      <td>2.0</td>\n",
       "      <td>1300.0</td>\n",
       "      <td>233266.0</td>\n",
       "      <td>1950.0</td>\n",
       "      <td>3110.99</td>\n",
       "      <td>6037.0</td>\n",
       "    </tr>\n",
       "    <tr>\n",
       "      <th>...</th>\n",
       "      <td>...</td>\n",
       "      <td>...</td>\n",
       "      <td>...</td>\n",
       "      <td>...</td>\n",
       "      <td>...</td>\n",
       "      <td>...</td>\n",
       "      <td>...</td>\n",
       "    </tr>\n",
       "    <tr>\n",
       "      <th>2152854</th>\n",
       "      <td>4.0</td>\n",
       "      <td>2.0</td>\n",
       "      <td>1987.0</td>\n",
       "      <td>259913.0</td>\n",
       "      <td>1955.0</td>\n",
       "      <td>3175.66</td>\n",
       "      <td>6059.0</td>\n",
       "    </tr>\n",
       "    <tr>\n",
       "      <th>2152856</th>\n",
       "      <td>3.0</td>\n",
       "      <td>2.5</td>\n",
       "      <td>1809.0</td>\n",
       "      <td>405547.0</td>\n",
       "      <td>2012.0</td>\n",
       "      <td>4181.10</td>\n",
       "      <td>6059.0</td>\n",
       "    </tr>\n",
       "    <tr>\n",
       "      <th>2152860</th>\n",
       "      <td>4.0</td>\n",
       "      <td>4.5</td>\n",
       "      <td>3127.0</td>\n",
       "      <td>536061.0</td>\n",
       "      <td>2014.0</td>\n",
       "      <td>6244.16</td>\n",
       "      <td>6059.0</td>\n",
       "    </tr>\n",
       "    <tr>\n",
       "      <th>2152862</th>\n",
       "      <td>3.0</td>\n",
       "      <td>2.5</td>\n",
       "      <td>1974.0</td>\n",
       "      <td>424353.0</td>\n",
       "      <td>2015.0</td>\n",
       "      <td>5302.70</td>\n",
       "      <td>6059.0</td>\n",
       "    </tr>\n",
       "    <tr>\n",
       "      <th>2152863</th>\n",
       "      <td>4.0</td>\n",
       "      <td>4.0</td>\n",
       "      <td>2110.0</td>\n",
       "      <td>554009.0</td>\n",
       "      <td>2014.0</td>\n",
       "      <td>6761.20</td>\n",
       "      <td>6037.0</td>\n",
       "    </tr>\n",
       "  </tbody>\n",
       "</table>\n",
       "<p>1913041 rows × 7 columns</p>\n",
       "</div>"
      ],
      "text/plain": [
       "         bedrooms  bathrooms    area  tax_value  year_built  tax_amount  \\\n",
       "4             4.0        2.0  3633.0   296425.0      2005.0     6941.39   \n",
       "6             3.0        4.0  1620.0   847770.0      2011.0    10244.94   \n",
       "7             3.0        2.0  2077.0   646760.0      1926.0     7924.68   \n",
       "18            3.0        1.0  1244.0   169471.0      1950.0     2532.88   \n",
       "19            3.0        2.0  1300.0   233266.0      1950.0     3110.99   \n",
       "...           ...        ...     ...        ...         ...         ...   \n",
       "2152854       4.0        2.0  1987.0   259913.0      1955.0     3175.66   \n",
       "2152856       3.0        2.5  1809.0   405547.0      2012.0     4181.10   \n",
       "2152860       4.0        4.5  3127.0   536061.0      2014.0     6244.16   \n",
       "2152862       3.0        2.5  1974.0   424353.0      2015.0     5302.70   \n",
       "2152863       4.0        4.0  2110.0   554009.0      2014.0     6761.20   \n",
       "\n",
       "           fips  \n",
       "4        6037.0  \n",
       "6        6037.0  \n",
       "7        6037.0  \n",
       "18       6037.0  \n",
       "19       6037.0  \n",
       "...         ...  \n",
       "2152854  6059.0  \n",
       "2152856  6059.0  \n",
       "2152860  6059.0  \n",
       "2152862  6059.0  \n",
       "2152863  6037.0  \n",
       "\n",
       "[1913041 rows x 7 columns]"
      ]
     },
     "execution_count": 64,
     "metadata": {},
     "output_type": "execute_result"
    }
   ],
   "source": [
    "#use the above function --> 1.5*IQR is considered fairly restrictive \n",
    "df = remove_outliers(df, 1.5, ['bedrooms', 'bathrooms', 'area', 'tax_value', 'tax_amount'])\n",
    "df"
   ]
  },
  {
   "cell_type": "markdown",
   "metadata": {},
   "source": [
    "### Visualize Data (Part 2)"
   ]
  },
  {
   "cell_type": "code",
   "execution_count": 69,
   "metadata": {},
   "outputs": [
    {
     "data": {
      "image/png": "[encoded data removed]",
      "text/plain": [
       "<Figure size 1440x288 with 5 Axes>"
      ]
     },
     "metadata": {
      "needs_background": "light"
     },
     "output_type": "display_data"
    }
   ],
   "source": [
    "# build out for loop to display quick visuals of each column\n",
    "plt.figure(figsize=(20,4))\n",
    "i=1\n",
    "for col in df.drop(columns=['fips', 'year_built']).columns:\n",
    "   \n",
    "    plt.subplot(1, len(df.columns), i)\n",
    "    df[col].hist(bins=5)\n",
    "    plt.title(col)\n",
    "    plt.ticklabel_format(useOffset=False)\n",
    "    plt.tight_layout()\n",
    "    i += 1\n",
    "\n",
    "plt.show()\n"
   ]
  },
  {
   "cell_type": "code",
   "execution_count": 74,
   "metadata": {},
   "outputs": [
    {
     "data": {
      "image/png": "[encoded data removed]",
      "text/plain": [
       "<Figure size 1440x288 with 5 Axes>"
      ]
     },
     "metadata": {
      "needs_background": "light"
     },
     "output_type": "display_data"
    }
   ],
   "source": [
    "# boxplot \n",
    "plt.figure(figsize=(20,4))\n",
    "i=1\n",
    "\n",
    "for col in df.drop(columns=['fips', 'year_built']).columns:\n",
    "   \n",
    "    plt.subplot(1, len(df.columns), i)\n",
    "    sns.boxplot(data=df[[col]])\n",
    "    plt.title(col)\n",
    "    i += 1\n",
    "\n",
    "plt.show()"
   ]
  },
  {
   "cell_type": "markdown",
   "metadata": {},
   "source": [
    "### Takeaways\n",
    "* Bed/Bath not normally distributed\n",
    "* Others more normal but still displaying skew\n",
    "* Less outliers, but much much closer to than before. okay to leave in"
   ]
  },
  {
   "cell_type": "markdown",
   "metadata": {},
   "source": [
    "### Nulls"
   ]
  },
  {
   "cell_type": "code",
   "execution_count": 75,
   "metadata": {},
   "outputs": [
    {
     "data": {
      "text/plain": [
       "bedrooms        11\n",
       "bathrooms       11\n",
       "area           150\n",
       "tax_value       99\n",
       "year_built    1015\n",
       "tax_amount    2022\n",
       "fips             0\n",
       "dtype: int64"
      ]
     },
     "execution_count": 75,
     "metadata": {},
     "output_type": "execute_result"
    }
   ],
   "source": [
    "# breaksdown nulls by column --> Still a decent amount\n",
    "df.isnull().sum()"
   ]
  },
  {
   "cell_type": "code",
   "execution_count": 81,
   "metadata": {},
   "outputs": [
    {
     "data": {
      "text/html": [
       "<div>\n",
       "<style scoped>\n",
       "    .dataframe tbody tr th:only-of-type {\n",
       "        vertical-align: middle;\n",
       "    }\n",
       "\n",
       "    .dataframe tbody tr th {\n",
       "        vertical-align: top;\n",
       "    }\n",
       "\n",
       "    .dataframe thead th {\n",
       "        text-align: right;\n",
       "    }\n",
       "</style>\n",
       "<table border=\"1\" class=\"dataframe\">\n",
       "  <thead>\n",
       "    <tr style=\"text-align: right;\">\n",
       "      <th></th>\n",
       "      <th>count</th>\n",
       "      <th>mean</th>\n",
       "      <th>std</th>\n",
       "      <th>min</th>\n",
       "      <th>25%</th>\n",
       "      <th>50%</th>\n",
       "      <th>75%</th>\n",
       "      <th>max</th>\n",
       "    </tr>\n",
       "  </thead>\n",
       "  <tbody>\n",
       "    <tr>\n",
       "      <th>bedrooms</th>\n",
       "      <td>1913030.0</td>\n",
       "      <td>3.227959</td>\n",
       "      <td>0.787743</td>\n",
       "      <td>2.00</td>\n",
       "      <td>3.00</td>\n",
       "      <td>3.00</td>\n",
       "      <td>4.00</td>\n",
       "      <td>5.00</td>\n",
       "    </tr>\n",
       "    <tr>\n",
       "      <th>bathrooms</th>\n",
       "      <td>1913030.0</td>\n",
       "      <td>2.079096</td>\n",
       "      <td>0.727472</td>\n",
       "      <td>0.50</td>\n",
       "      <td>2.00</td>\n",
       "      <td>2.00</td>\n",
       "      <td>2.50</td>\n",
       "      <td>4.50</td>\n",
       "    </tr>\n",
       "    <tr>\n",
       "      <th>area</th>\n",
       "      <td>1912891.0</td>\n",
       "      <td>1682.923848</td>\n",
       "      <td>595.440214</td>\n",
       "      <td>1.00</td>\n",
       "      <td>1239.00</td>\n",
       "      <td>1563.00</td>\n",
       "      <td>2026.00</td>\n",
       "      <td>3634.00</td>\n",
       "    </tr>\n",
       "    <tr>\n",
       "      <th>tax_value</th>\n",
       "      <td>1912942.0</td>\n",
       "      <td>342387.948874</td>\n",
       "      <td>216177.349169</td>\n",
       "      <td>1.00</td>\n",
       "      <td>177517.25</td>\n",
       "      <td>303639.50</td>\n",
       "      <td>468104.00</td>\n",
       "      <td>1054000.00</td>\n",
       "    </tr>\n",
       "    <tr>\n",
       "      <th>year_built</th>\n",
       "      <td>1912026.0</td>\n",
       "      <td>1959.790942</td>\n",
       "      <td>20.841412</td>\n",
       "      <td>1801.00</td>\n",
       "      <td>1949.00</td>\n",
       "      <td>1957.00</td>\n",
       "      <td>1973.00</td>\n",
       "      <td>2016.00</td>\n",
       "    </tr>\n",
       "    <tr>\n",
       "      <th>tax_amount</th>\n",
       "      <td>1911019.0</td>\n",
       "      <td>4244.886171</td>\n",
       "      <td>2457.314734</td>\n",
       "      <td>16.48</td>\n",
       "      <td>2412.32</td>\n",
       "      <td>3830.82</td>\n",
       "      <td>5672.03</td>\n",
       "      <td>12233.33</td>\n",
       "    </tr>\n",
       "    <tr>\n",
       "      <th>fips</th>\n",
       "      <td>1913041.0</td>\n",
       "      <td>6048.376655</td>\n",
       "      <td>20.538860</td>\n",
       "      <td>6037.00</td>\n",
       "      <td>6037.00</td>\n",
       "      <td>6037.00</td>\n",
       "      <td>6059.00</td>\n",
       "      <td>6111.00</td>\n",
       "    </tr>\n",
       "  </tbody>\n",
       "</table>\n",
       "</div>"
      ],
      "text/plain": [
       "                count           mean            std      min        25%  \\\n",
       "bedrooms    1913030.0       3.227959       0.787743     2.00       3.00   \n",
       "bathrooms   1913030.0       2.079096       0.727472     0.50       2.00   \n",
       "area        1912891.0    1682.923848     595.440214     1.00    1239.00   \n",
       "tax_value   1912942.0  342387.948874  216177.349169     1.00  177517.25   \n",
       "year_built  1912026.0    1959.790942      20.841412  1801.00    1949.00   \n",
       "tax_amount  1911019.0    4244.886171    2457.314734    16.48    2412.32   \n",
       "fips        1913041.0    6048.376655      20.538860  6037.00    6037.00   \n",
       "\n",
       "                  50%        75%         max  \n",
       "bedrooms         3.00       4.00        5.00  \n",
       "bathrooms        2.00       2.50        4.50  \n",
       "area          1563.00    2026.00     3634.00  \n",
       "tax_value   303639.50  468104.00  1054000.00  \n",
       "year_built    1957.00    1973.00     2016.00  \n",
       "tax_amount    3830.82    5672.03    12233.33  \n",
       "fips          6037.00    6059.00     6111.00  "
      ]
     },
     "execution_count": 81,
     "metadata": {},
     "output_type": "execute_result"
    }
   ],
   "source": [
    "# use descreibe again to check mean/median values\n",
    "# df.describe().T"
   ]
  },
  {
   "cell_type": "code",
   "execution_count": 88,
   "metadata": {},
   "outputs": [
    {
     "name": "stdout",
     "output_type": "stream",
     "text": [
      "bedrooms mode is 3.0    924083\n",
      "Name: bedrooms, dtype: int64\n",
      "\n",
      "\n",
      "bathrooms mode is 2.0    921681\n",
      "Name: bathrooms, dtype: int64\n",
      "\n",
      "\n",
      "area mode is 1200.0    5113\n",
      "Name: area, dtype: int64\n",
      "\n",
      "\n",
      "tax_value mode is 450000.0    809\n",
      "Name: tax_value, dtype: int64\n",
      "\n",
      "\n",
      "year_built mode is 1955.0    81346\n",
      "Name: year_built, dtype: int64\n",
      "\n",
      "\n",
      "tax_amount mode is 345.72    165\n",
      "Name: tax_amount, dtype: int64\n",
      "\n",
      "\n"
     ]
    }
   ],
   "source": [
    "# mode for each\n",
    "for col in df.drop(columns=['fips']).columns:\n",
    "    print(f'{col} mode is {df[col].value_counts().head(1)}')\n",
    "    print('\\n')"
   ]
  },
  {
   "cell_type": "markdown",
   "metadata": {},
   "source": [
    "### Takeaways for Nulls\n",
    "* beds, baths, area, tax_value, tax_amount - use mean to impute\n",
    "* year_built - use mode to impute because we are going to make categorical \n",
    "* we will take care of imputation with a loop after we split the data\n"
   ]
  },
  {
   "cell_type": "markdown",
   "metadata": {},
   "source": [
    "### Clean - Categories"
   ]
  },
  {
   "cell_type": "code",
   "execution_count": 89,
   "metadata": {},
   "outputs": [],
   "source": [
    "# change data types for fips and year_built. \n",
    "df.fips = df.fips.astype(object)\n",
    "df.year_built = df.year_built.astype(object)"
   ]
  },
  {
   "cell_type": "markdown",
   "metadata": {},
   "source": [
    "### Train Test Split Impute"
   ]
  },
  {
   "cell_type": "code",
   "execution_count": 90,
   "metadata": {},
   "outputs": [],
   "source": [
    "#train_test_split\n",
    "train_validate, test = train_test_split(df, test_size=.2, random_state=514)\n",
    "train, validate = train_test_split(train_validate, test_size=.3, random_state=514)"
   ]
  },
  {
   "cell_type": "code",
   "execution_count": 92,
   "metadata": {},
   "outputs": [],
   "source": [
    "# loop throught continous columsn and impute with median\n",
    "for col in df.drop(columns=['year_built', 'fips']).columns:\n",
    "    imputer = SimpleImputer(strategy='median')\n",
    "\n",
    "    imputer.fit(train[[col]])\n",
    "\n",
    "    train[[col]] = imputer.transform(train[[col]])\n",
    "    validate[[col]] = imputer.transform(validate[[col]])\n",
    "    test[[col]] = imputer.transform(test[[col]])"
   ]
  },
  {
   "cell_type": "code",
   "execution_count": 94,
   "metadata": {},
   "outputs": [],
   "source": [
    "#create imputer for cat types \n",
    "imputer_cat = SimpleImputer(strategy='most_frequent')\n",
    "\n",
    "#fit both imputers to train set\n",
    "imputer_cat.fit(train[['year_built']])\n",
    "\n",
    "train[['year_built']] = imputer_cat.transform(train[['year_built']])\n",
    "validate[['year_built']] = imputer_cat.transform(validate[['year_built']])\n",
    "test[['year_built']] = imputer_cat.transform(test[['year_built']])"
   ]
  },
  {
   "cell_type": "code",
   "execution_count": 96,
   "metadata": {},
   "outputs": [
    {
     "data": {
      "text/plain": [
       "bedrooms      0\n",
       "bathrooms     0\n",
       "area          0\n",
       "tax_value     0\n",
       "year_built    0\n",
       "tax_amount    0\n",
       "fips          0\n",
       "dtype: int64"
      ]
     },
     "execution_count": 96,
     "metadata": {},
     "output_type": "execute_result"
    }
   ],
   "source": [
    "validate.isnull().sum()"
   ]
  },
  {
   "cell_type": "markdown",
   "metadata": {},
   "source": [
    "### Takeaways \n",
    "* Not very much to take away\n"
   ]
  },
  {
   "cell_type": "markdown",
   "metadata": {},
   "source": [
    "## 3 - Store all of the necessary functions to automate your process from acquiring the data to returning a cleaned dataframe with no missing values in your wrangle.py file. Name your final function wrangle_zillow."
   ]
  },
  {
   "cell_type": "code",
   "execution_count": 99,
   "metadata": {},
   "outputs": [],
   "source": [
    "#### Acquire\n",
    "def acquire_zillow():\n",
    "    #create url to access DB\n",
    "    url = f\"mysql+pymysql://{user}:{password}@{host}/zillow\"\n",
    "\n",
    "    #write sql query for specified columns\n",
    "    sql = \"\"\" \n",
    "    SELECT bedroomcnt, bathroomcnt, calculatedfinishedsquarefeet, taxvaluedollarcnt, yearbuilt, taxamount, fips\n",
    "    FROM properties_2017\n",
    "    LEFT JOIN propertylandusetype USING (propertylandusetypeid)\n",
    "    WHERE propertylandusedesc IN (\"Single Family Residential\", \"Inferred Single Family Residential\")\n",
    "    \"\"\"\n",
    "\n",
    "    #read the data in a dataFrame\n",
    "    df = pd.read_sql(sql, url)\n",
    "\n",
    "    # take care of column names --> no need for takeaways\n",
    "    df = df.rename(columns = {'bedroomcnt':'bedrooms',\n",
    "                                'bathroomcnt': 'bathrooms',\n",
    "                                'calculatedfinishedsquarefeet': 'area',\n",
    "                                'taxvaluedollarcnt': 'tax_value',\n",
    "                                'taxamount': 'tax_amount',\n",
    "                                'yearbuilt': 'year_built'})\n",
    "    return df\n",
    "\n",
    "#### Prepare (remove outliers, do some visualizations, and train/test/impute)\n",
    "\n",
    "def remove_outliers(df, k, col_list):\n",
    "    \"\"\" \n",
    "    Purpose\n",
    "        Remove outliers from a list of columns in a dataframe and return that dataframe\n",
    "    \n",
    "    Parameters\n",
    "        df: a dataframe containing zillow real estate data\n",
    "        k: factor to multiple IQR\n",
    "        col_list: a list of dataframe columns to work on \n",
    "\n",
    "    Returns\n",
    "        df: a dataframe with the desired adjustments\n",
    "    \"\"\"\n",
    "\n",
    "    # total number of observations\n",
    "    num_obs = df.shape[0]\n",
    "        \n",
    "    # Create a column that will label our rows as containing an outlier. sets default value\n",
    "    df['outlier'] = False\n",
    "\n",
    "    # loop through the columns provided to find appropriate values and labels\n",
    "    for col in col_list:\n",
    "\n",
    "        # find quartiles\n",
    "        q1, q3 = df[col].quantile([.25, .75])  \n",
    "        \n",
    "       # get interquartile range\n",
    "        iqr = q3 - q1\n",
    "\n",
    "       # find upper/lower bounds \n",
    "        upper_bound = q3 + k * iqr   # get upper bound\n",
    "        lower_bound = q1 - k * iqr   # get lower bound\n",
    "\n",
    "        # update the outlier label as needed. \n",
    "        df['outlier'] = np.where(((df[col] < lower_bound) | (df[col] > upper_bound)) & (df.outlier == False), True, df.outlier)\n",
    "    \n",
    "    # set dataframe to dataframe w/o the outliers\n",
    "    df = df[df.outlier == False]\n",
    "\n",
    "    # drop the outlier column from the dataFrame. no longer needed\n",
    "    df.drop(columns=['outlier'], inplace=True)\n",
    "\n",
    "    # print out number of removed observations\n",
    "    print(f\"Number of observations removed: {num_obs - df.shape[0]}\")\n",
    "        \n",
    "    return df\n",
    "\n",
    "def make_hist(df):\n",
    "    plt.figure(figsize=(20,4))\n",
    "    i=1\n",
    "    for col in df.drop(columns=['fips', 'year_built']).columns:\n",
    "\n",
    "        plt.subplot(1, len(df.columns), i)\n",
    "        df[col].hist(bins=5)\n",
    "        plt.title(col)\n",
    "        plt.ticklabel_format(useOffset=False)\n",
    "        plt.tight_layout()\n",
    "        i += 1\n",
    "\n",
    "    plt.show()\n",
    "\n",
    "def make_box(df):\n",
    "    # boxplot \n",
    "    plt.figure(figsize=(20,4))\n",
    "    i=1\n",
    "\n",
    "    for col in df.drop(columns=['fips', 'year_built']).columns:\n",
    "    \n",
    "        plt.subplot(1, len(df.columns), i)\n",
    "        sns.boxplot(data=df[[col]])\n",
    "        plt.title(col)\n",
    "        i += 1\n",
    "\n",
    "    plt.show()\n",
    "\n",
    "# prep function to bring it together\n",
    "def prep_zillow(df):\n",
    "    \"\"\"\n",
    "    Purpose\n",
    "        To return dataset for exploration\n",
    "\n",
    "    Parameters\n",
    "        df: dataframe to perform desired operations on\n",
    "\n",
    "    Returns\n",
    "        train, validate, and test datasets\n",
    "    \"\"\"\n",
    "    #remove outliers\n",
    "    df = remove_outliers(df, 1.5, ['bedrooms', 'bathrooms', 'area', 'tax_value', 'tax_amount'])\n",
    "\n",
    "    # view distributions with histogram and boxplots\n",
    "    make_hist(df)\n",
    "    make_box(df)\n",
    "\n",
    "    # change data types for fips and year_built. \n",
    "    df.fips = df.fips.astype(object)\n",
    "    df.year_built = df.year_built.astype(object)\n",
    "\n",
    "    #train_test_split\n",
    "    train_validate, test = train_test_split(df, test_size=.2, random_state=514)\n",
    "    train, validate = train_test_split(train_validate, test_size=.3, random_state=514)\n",
    "\n",
    "    # loop throught continous columsn and impute with median\n",
    "    for col in df.drop(columns=['year_built', 'fips']).columns:\n",
    "        imputer = SimpleImputer(strategy='median')\n",
    "\n",
    "        imputer.fit(train[[col]])\n",
    "\n",
    "        train[[col]] = imputer.transform(train[[col]])\n",
    "        validate[[col]] = imputer.transform(validate[[col]])\n",
    "        test[[col]] = imputer.transform(test[[col]])\n",
    "\n",
    "    #create imputer for cat types \n",
    "    imputer_cat = SimpleImputer(strategy='most_frequent')\n",
    "\n",
    "    #fit both imputers to train set\n",
    "    imputer_cat.fit(train[['year_built']])\n",
    "\n",
    "    train[['year_built']] = imputer_cat.transform(train[['year_built']])\n",
    "    validate[['year_built']] = imputer_cat.transform(validate[['year_built']])\n",
    "    test[['year_built']] = imputer_cat.transform(test[['year_built']])\n",
    "\n",
    "    return train, validate, test\n",
    "\n",
    "#### Wrangle\n",
    "\n",
    "def wrangle_zillow():\n",
    "    \"\"\" \n",
    "    Purpose\n",
    "        Acquire and prepare data from Zillow data set for exploration\n",
    "    \n",
    "    Parameters\n",
    "        None\n",
    "    \n",
    "    Returns \n",
    "        Cleaned and prepared train, validate, and test subsets of data for exploration and modeling\n",
    "    \"\"\"\n",
    "    train, validate, test = prep_zillow(acquire_zillow())\n",
    "    return train, validate, test"
   ]
  },
  {
   "cell_type": "code",
   "execution_count": 100,
   "metadata": {},
   "outputs": [
    {
     "name": "stdout",
     "output_type": "stream",
     "text": [
      "Number of observations removed: 239823\n"
     ]
    },
    {
     "data": {
      "image/png": "[encoded data removed]",
      "text/plain": [
       "<Figure size 1440x288 with 5 Axes>"
      ]
     },
     "metadata": {
      "needs_background": "light"
     },
     "output_type": "display_data"
    },
    {
     "data": {
      "image/png": "[encoded data removed]",
      "text/plain": [
       "<Figure size 1440x288 with 5 Axes>"
      ]
     },
     "metadata": {
      "needs_background": "light"
     },
     "output_type": "display_data"
    }
   ],
   "source": [
    "train, validate, test = wrangle_zillow()"
   ]
  }
 ],
 "metadata": {
  "kernelspec": {
   "display_name": "Python 3.9.12 ('base')",
   "language": "python",
   "name": "python3"
  },
  "language_info": {
   "codemirror_mode": {
    "name": "ipython",
    "version": 3
   },
   "file_extension": ".py",
   "mimetype": "text/x-python",
   "name": "python",
   "nbconvert_exporter": "python",
   "pygments_lexer": "ipython3",
   "version": "3.9.12"
  },
  "orig_nbformat": 4,
  "vscode": {
   "interpreter": {
    "hash": "38cca0c38332a56087b24af0bc80247f4fced29cb4f7f437d91dc159adec9c4e"
   }
  }
 },
 "nbformat": 4,
 "nbformat_minor": 2
}
